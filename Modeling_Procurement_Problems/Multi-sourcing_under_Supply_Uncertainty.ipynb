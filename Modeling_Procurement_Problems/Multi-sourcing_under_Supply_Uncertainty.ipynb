{
 "cells": [
  {
   "cell_type": "markdown",
   "metadata": {},
   "source": [
    "# Multi-sourcing under Supply Uncertainty\n",
    "Prepared by: Nickolas Freeman, PhD\n",
    "\n",
    "This notebook will demonstrate different approaches to modeling supply uncertainty. This demonstration will utilize a dataset that contains information regarding the sales of three products, each of which has been previously ordered from multiple suppliers. The steps we take to prepare the data for optimization modeling serve as a refresher on the use of Python for data manipulation. The following code block imports several libraries that we will use for the analysis."
   ]
  },
  {
   "cell_type": "code",
   "execution_count": 1,
   "metadata": {},
   "outputs": [],
   "source": [
    "import pandas as pd\n",
    "import numpy as np\n",
    "import matplotlib.pyplot as plt\n",
    "import pyopsmgmt as pyop\n",
    "from ipywidgets import interact\n",
    "from gurobipy import *"
   ]
  },
  {
   "cell_type": "markdown",
   "metadata": {},
   "source": [
    "Throughout the notebook, we will use variables to store parameter values as much as possible. The motivation for doing this is to demonstrate how to write code in a form that is amenable to automation with as few changes as possible. The following code block specifies a variable that holds the name of the data file."
   ]
  },
  {
   "cell_type": "code",
   "execution_count": 2,
   "metadata": {},
   "outputs": [],
   "source": [
    "data_filename = 'data.xlsx'"
   ]
  },
  {
   "cell_type": "markdown",
   "metadata": {},
   "source": [
    "At this point, we are not sure exactly how the Excel file that contains the data is structures. The following code block creates a Pandas `ExcelFile` object using the the data file. This object has several attributes that we may use to gather information regarding the data's structure."
   ]
  },
  {
   "cell_type": "code",
   "execution_count": 3,
   "metadata": {},
   "outputs": [],
   "source": [
    "data_file = pd.ExcelFile(data_filename)"
   ]
  },
  {
   "cell_type": "markdown",
   "metadata": {},
   "source": [
    "The following code block uses the `sheet_names` attribute of the `ExcelFile` object to generate a list of the sheet names contained in the Excel file."
   ]
  },
  {
   "cell_type": "code",
   "execution_count": 4,
   "metadata": {},
   "outputs": [
    {
     "data": {
      "text/plain": [
       "['Sales_Data', 'Delivery_Data', 'Price_Data']"
      ]
     },
     "execution_count": 4,
     "metadata": {},
     "output_type": "execute_result"
    }
   ],
   "source": [
    "data_file.sheet_names"
   ]
  },
  {
   "cell_type": "markdown",
   "metadata": {},
   "source": [
    "Suppose that we want to read the data contained in each sheet into a separate Pandas `DataFrame` so that we can view the data and access the contents of the sheets for further analysis. Although Python (or most other programming languages for that matter) do not permit variables to be created on-the-fly, Python dictionaries allow us to achieve the same result. Essentially, we can create a dictionary with keys for each worksheet in the Excel file. The value for each key will be the associated data stored as a Pandas `DataFrame`. The following code block creates such a dictionary, which we name `data`."
   ]
  },
  {
   "cell_type": "code",
   "execution_count": 5,
   "metadata": {},
   "outputs": [],
   "source": [
    "data = {}\n",
    "for current_sheet in data_file.sheet_names:\n",
    "    data[current_sheet] = pd.read_excel(data_filename, sheet_name = current_sheet)"
   ]
  },
  {
   "cell_type": "markdown",
   "metadata": {},
   "source": [
    "The following code block iterates over the `data` object, printing the first three rows of each `DataFrame`."
   ]
  },
  {
   "cell_type": "code",
   "execution_count": 6,
   "metadata": {},
   "outputs": [
    {
     "name": "stdout",
     "output_type": "stream",
     "text": [
      "-----------------\n",
      "Sales_Data\n",
      "-----------------\n",
      "        Date  Product_A_Sales  Product_B_Sales  Product_C_Sales\n",
      "0 2017-08-19              806              379             1495\n",
      "1 2017-08-20              698              309             1445\n",
      "2 2017-08-21              647              306             1508\n",
      "\n",
      "\n",
      "-----------------\n",
      "Delivery_Data\n",
      "-----------------\n",
      "         Date Product Supplier  On_Time     Yield  Unit_Cost  \\\n",
      "0  01/01/2015       B    Comp6        1  0.902671       0.80   \n",
      "1  01/02/2015       A    Comp2        1  0.922248       1.18   \n",
      "2  01/02/2015       C   Comp14        1  0.768681       2.53   \n",
      "\n",
      "   Ship_From_Country  \n",
      "0                  3  \n",
      "1                  1  \n",
      "2                  1  \n",
      "\n",
      "\n",
      "-----------------\n",
      "Price_Data\n",
      "-----------------\n",
      "  Product  Sales_Price\n",
      "0       A         2.00\n",
      "1       B         1.25\n",
      "2       C         5.00\n",
      "\n",
      "\n"
     ]
    }
   ],
   "source": [
    "for key in data.keys():\n",
    "    print('-----------------')\n",
    "    print(key)\n",
    "    print('-----------------')\n",
    "    print(data[key].head(3))\n",
    "    print('\\n')"
   ]
  },
  {
   "cell_type": "markdown",
   "metadata": {},
   "source": [
    "# Data Exploration\n",
    "\n",
    "Before continuing, let's investigate the data to get a better understanding of the different cases we will be modeling. The following code block shows that the data associated with the `Sales_Data` key contains 500 sales observations for three products, A, B, and C, each in a separate column. Note that providing the `all` argument to the `describe` method tells Pandas that we would like to see information for non-numeric columns in addition to numeric columns."
   ]
  },
  {
   "cell_type": "code",
   "execution_count": 7,
   "metadata": {},
   "outputs": [
    {
     "data": {
      "text/html": [
       "<div>\n",
       "<style scoped>\n",
       "    .dataframe tbody tr th:only-of-type {\n",
       "        vertical-align: middle;\n",
       "    }\n",
       "\n",
       "    .dataframe tbody tr th {\n",
       "        vertical-align: top;\n",
       "    }\n",
       "\n",
       "    .dataframe thead th {\n",
       "        text-align: right;\n",
       "    }\n",
       "</style>\n",
       "<table border=\"1\" class=\"dataframe\">\n",
       "  <thead>\n",
       "    <tr style=\"text-align: right;\">\n",
       "      <th></th>\n",
       "      <th>Date</th>\n",
       "      <th>Product_A_Sales</th>\n",
       "      <th>Product_B_Sales</th>\n",
       "      <th>Product_C_Sales</th>\n",
       "    </tr>\n",
       "  </thead>\n",
       "  <tbody>\n",
       "    <tr>\n",
       "      <th>count</th>\n",
       "      <td>500</td>\n",
       "      <td>500.000000</td>\n",
       "      <td>500.000000</td>\n",
       "      <td>500.000000</td>\n",
       "    </tr>\n",
       "    <tr>\n",
       "      <th>unique</th>\n",
       "      <td>500</td>\n",
       "      <td>NaN</td>\n",
       "      <td>NaN</td>\n",
       "      <td>NaN</td>\n",
       "    </tr>\n",
       "    <tr>\n",
       "      <th>top</th>\n",
       "      <td>2017-10-30 00:00:00</td>\n",
       "      <td>NaN</td>\n",
       "      <td>NaN</td>\n",
       "      <td>NaN</td>\n",
       "    </tr>\n",
       "    <tr>\n",
       "      <th>freq</th>\n",
       "      <td>1</td>\n",
       "      <td>NaN</td>\n",
       "      <td>NaN</td>\n",
       "      <td>NaN</td>\n",
       "    </tr>\n",
       "    <tr>\n",
       "      <th>first</th>\n",
       "      <td>2017-08-19 00:00:00</td>\n",
       "      <td>NaN</td>\n",
       "      <td>NaN</td>\n",
       "      <td>NaN</td>\n",
       "    </tr>\n",
       "    <tr>\n",
       "      <th>last</th>\n",
       "      <td>2018-12-31 00:00:00</td>\n",
       "      <td>NaN</td>\n",
       "      <td>NaN</td>\n",
       "      <td>NaN</td>\n",
       "    </tr>\n",
       "    <tr>\n",
       "      <th>mean</th>\n",
       "      <td>NaN</td>\n",
       "      <td>761.512000</td>\n",
       "      <td>322.606000</td>\n",
       "      <td>1498.430000</td>\n",
       "    </tr>\n",
       "    <tr>\n",
       "      <th>std</th>\n",
       "      <td>NaN</td>\n",
       "      <td>42.811535</td>\n",
       "      <td>38.569288</td>\n",
       "      <td>53.430204</td>\n",
       "    </tr>\n",
       "    <tr>\n",
       "      <th>min</th>\n",
       "      <td>NaN</td>\n",
       "      <td>647.000000</td>\n",
       "      <td>259.000000</td>\n",
       "      <td>1351.000000</td>\n",
       "    </tr>\n",
       "    <tr>\n",
       "      <th>25%</th>\n",
       "      <td>NaN</td>\n",
       "      <td>724.750000</td>\n",
       "      <td>291.000000</td>\n",
       "      <td>1463.000000</td>\n",
       "    </tr>\n",
       "    <tr>\n",
       "      <th>50%</th>\n",
       "      <td>NaN</td>\n",
       "      <td>768.000000</td>\n",
       "      <td>314.000000</td>\n",
       "      <td>1497.500000</td>\n",
       "    </tr>\n",
       "    <tr>\n",
       "      <th>75%</th>\n",
       "      <td>NaN</td>\n",
       "      <td>797.000000</td>\n",
       "      <td>352.000000</td>\n",
       "      <td>1535.250000</td>\n",
       "    </tr>\n",
       "    <tr>\n",
       "      <th>max</th>\n",
       "      <td>NaN</td>\n",
       "      <td>853.000000</td>\n",
       "      <td>411.000000</td>\n",
       "      <td>1645.000000</td>\n",
       "    </tr>\n",
       "  </tbody>\n",
       "</table>\n",
       "</div>"
      ],
      "text/plain": [
       "                       Date  Product_A_Sales  Product_B_Sales  Product_C_Sales\n",
       "count                   500       500.000000       500.000000       500.000000\n",
       "unique                  500              NaN              NaN              NaN\n",
       "top     2017-10-30 00:00:00              NaN              NaN              NaN\n",
       "freq                      1              NaN              NaN              NaN\n",
       "first   2017-08-19 00:00:00              NaN              NaN              NaN\n",
       "last    2018-12-31 00:00:00              NaN              NaN              NaN\n",
       "mean                    NaN       761.512000       322.606000      1498.430000\n",
       "std                     NaN        42.811535        38.569288        53.430204\n",
       "min                     NaN       647.000000       259.000000      1351.000000\n",
       "25%                     NaN       724.750000       291.000000      1463.000000\n",
       "50%                     NaN       768.000000       314.000000      1497.500000\n",
       "75%                     NaN       797.000000       352.000000      1535.250000\n",
       "max                     NaN       853.000000       411.000000      1645.000000"
      ]
     },
     "execution_count": 7,
     "metadata": {},
     "output_type": "execute_result"
    }
   ],
   "source": [
    "data['Sales_Data'].describe(include = 'all')"
   ]
  },
  {
   "cell_type": "markdown",
   "metadata": {},
   "source": [
    "The following code block provides information regarding the data associated with the `Delivery_Data` key. Using this information, along with the first three rows printed earlier, it seems that this data includes shipment outcomes for various orders for the available products. In particular, there are 3000 observations for the three products (combined). In total, orders are placed with 16 unique suppliers and the data includes a binary field that represents whether or not each delivery was made *on-time*, the yield assoicated with each delivery, the unit cost charged, and a numeric field representing the country the order shipped from."
   ]
  },
  {
   "cell_type": "code",
   "execution_count": 8,
   "metadata": {},
   "outputs": [
    {
     "data": {
      "text/html": [
       "<div>\n",
       "<style scoped>\n",
       "    .dataframe tbody tr th:only-of-type {\n",
       "        vertical-align: middle;\n",
       "    }\n",
       "\n",
       "    .dataframe tbody tr th {\n",
       "        vertical-align: top;\n",
       "    }\n",
       "\n",
       "    .dataframe thead th {\n",
       "        text-align: right;\n",
       "    }\n",
       "</style>\n",
       "<table border=\"1\" class=\"dataframe\">\n",
       "  <thead>\n",
       "    <tr style=\"text-align: right;\">\n",
       "      <th></th>\n",
       "      <th>Date</th>\n",
       "      <th>Product</th>\n",
       "      <th>Supplier</th>\n",
       "      <th>On_Time</th>\n",
       "      <th>Yield</th>\n",
       "      <th>Unit_Cost</th>\n",
       "      <th>Ship_From_Country</th>\n",
       "    </tr>\n",
       "  </thead>\n",
       "  <tbody>\n",
       "    <tr>\n",
       "      <th>count</th>\n",
       "      <td>3000</td>\n",
       "      <td>3000</td>\n",
       "      <td>3000</td>\n",
       "      <td>3000.000000</td>\n",
       "      <td>3000.000000</td>\n",
       "      <td>3000.000000</td>\n",
       "      <td>3000.000000</td>\n",
       "    </tr>\n",
       "    <tr>\n",
       "      <th>unique</th>\n",
       "      <td>1270</td>\n",
       "      <td>3</td>\n",
       "      <td>16</td>\n",
       "      <td>NaN</td>\n",
       "      <td>NaN</td>\n",
       "      <td>NaN</td>\n",
       "      <td>NaN</td>\n",
       "    </tr>\n",
       "    <tr>\n",
       "      <th>top</th>\n",
       "      <td>11/19/2017</td>\n",
       "      <td>C</td>\n",
       "      <td>Comp13</td>\n",
       "      <td>NaN</td>\n",
       "      <td>NaN</td>\n",
       "      <td>NaN</td>\n",
       "      <td>NaN</td>\n",
       "    </tr>\n",
       "    <tr>\n",
       "      <th>freq</th>\n",
       "      <td>9</td>\n",
       "      <td>1245</td>\n",
       "      <td>368</td>\n",
       "      <td>NaN</td>\n",
       "      <td>NaN</td>\n",
       "      <td>NaN</td>\n",
       "      <td>NaN</td>\n",
       "    </tr>\n",
       "    <tr>\n",
       "      <th>mean</th>\n",
       "      <td>NaN</td>\n",
       "      <td>NaN</td>\n",
       "      <td>NaN</td>\n",
       "      <td>0.894000</td>\n",
       "      <td>0.831155</td>\n",
       "      <td>1.760477</td>\n",
       "      <td>1.232667</td>\n",
       "    </tr>\n",
       "    <tr>\n",
       "      <th>std</th>\n",
       "      <td>NaN</td>\n",
       "      <td>NaN</td>\n",
       "      <td>NaN</td>\n",
       "      <td>0.307889</td>\n",
       "      <td>0.046624</td>\n",
       "      <td>0.797020</td>\n",
       "      <td>0.497275</td>\n",
       "    </tr>\n",
       "    <tr>\n",
       "      <th>min</th>\n",
       "      <td>NaN</td>\n",
       "      <td>NaN</td>\n",
       "      <td>NaN</td>\n",
       "      <td>0.000000</td>\n",
       "      <td>0.714098</td>\n",
       "      <td>0.800000</td>\n",
       "      <td>1.000000</td>\n",
       "    </tr>\n",
       "    <tr>\n",
       "      <th>25%</th>\n",
       "      <td>NaN</td>\n",
       "      <td>NaN</td>\n",
       "      <td>NaN</td>\n",
       "      <td>1.000000</td>\n",
       "      <td>0.798552</td>\n",
       "      <td>1.180000</td>\n",
       "      <td>1.000000</td>\n",
       "    </tr>\n",
       "    <tr>\n",
       "      <th>50%</th>\n",
       "      <td>NaN</td>\n",
       "      <td>NaN</td>\n",
       "      <td>NaN</td>\n",
       "      <td>1.000000</td>\n",
       "      <td>0.833835</td>\n",
       "      <td>1.290000</td>\n",
       "      <td>1.000000</td>\n",
       "    </tr>\n",
       "    <tr>\n",
       "      <th>75%</th>\n",
       "      <td>NaN</td>\n",
       "      <td>NaN</td>\n",
       "      <td>NaN</td>\n",
       "      <td>1.000000</td>\n",
       "      <td>0.866595</td>\n",
       "      <td>2.530000</td>\n",
       "      <td>1.000000</td>\n",
       "    </tr>\n",
       "    <tr>\n",
       "      <th>max</th>\n",
       "      <td>NaN</td>\n",
       "      <td>NaN</td>\n",
       "      <td>NaN</td>\n",
       "      <td>1.000000</td>\n",
       "      <td>0.931202</td>\n",
       "      <td>2.940000</td>\n",
       "      <td>3.000000</td>\n",
       "    </tr>\n",
       "  </tbody>\n",
       "</table>\n",
       "</div>"
      ],
      "text/plain": [
       "              Date Product Supplier      On_Time        Yield    Unit_Cost  \\\n",
       "count         3000    3000     3000  3000.000000  3000.000000  3000.000000   \n",
       "unique        1270       3       16          NaN          NaN          NaN   \n",
       "top     11/19/2017       C   Comp13          NaN          NaN          NaN   \n",
       "freq             9    1245      368          NaN          NaN          NaN   \n",
       "mean           NaN     NaN      NaN     0.894000     0.831155     1.760477   \n",
       "std            NaN     NaN      NaN     0.307889     0.046624     0.797020   \n",
       "min            NaN     NaN      NaN     0.000000     0.714098     0.800000   \n",
       "25%            NaN     NaN      NaN     1.000000     0.798552     1.180000   \n",
       "50%            NaN     NaN      NaN     1.000000     0.833835     1.290000   \n",
       "75%            NaN     NaN      NaN     1.000000     0.866595     2.530000   \n",
       "max            NaN     NaN      NaN     1.000000     0.931202     2.940000   \n",
       "\n",
       "        Ship_From_Country  \n",
       "count         3000.000000  \n",
       "unique                NaN  \n",
       "top                   NaN  \n",
       "freq                  NaN  \n",
       "mean             1.232667  \n",
       "std              0.497275  \n",
       "min              1.000000  \n",
       "25%              1.000000  \n",
       "50%              1.000000  \n",
       "75%              1.000000  \n",
       "max              3.000000  "
      ]
     },
     "execution_count": 8,
     "metadata": {},
     "output_type": "execute_result"
    }
   ],
   "source": [
    "data['Delivery_Data'].describe(include='all')"
   ]
  },
  {
   "cell_type": "markdown",
   "metadata": {},
   "source": [
    "The following code block provides insight into the data associated with the `Price_Data` key. There are only three records, one for each product. Thus, the data seems to be providing the sales price for each product."
   ]
  },
  {
   "cell_type": "code",
   "execution_count": 9,
   "metadata": {},
   "outputs": [
    {
     "data": {
      "text/html": [
       "<div>\n",
       "<style scoped>\n",
       "    .dataframe tbody tr th:only-of-type {\n",
       "        vertical-align: middle;\n",
       "    }\n",
       "\n",
       "    .dataframe tbody tr th {\n",
       "        vertical-align: top;\n",
       "    }\n",
       "\n",
       "    .dataframe thead th {\n",
       "        text-align: right;\n",
       "    }\n",
       "</style>\n",
       "<table border=\"1\" class=\"dataframe\">\n",
       "  <thead>\n",
       "    <tr style=\"text-align: right;\">\n",
       "      <th></th>\n",
       "      <th>Product</th>\n",
       "      <th>Sales_Price</th>\n",
       "    </tr>\n",
       "  </thead>\n",
       "  <tbody>\n",
       "    <tr>\n",
       "      <th>count</th>\n",
       "      <td>3</td>\n",
       "      <td>3.000000</td>\n",
       "    </tr>\n",
       "    <tr>\n",
       "      <th>unique</th>\n",
       "      <td>3</td>\n",
       "      <td>NaN</td>\n",
       "    </tr>\n",
       "    <tr>\n",
       "      <th>top</th>\n",
       "      <td>A</td>\n",
       "      <td>NaN</td>\n",
       "    </tr>\n",
       "    <tr>\n",
       "      <th>freq</th>\n",
       "      <td>1</td>\n",
       "      <td>NaN</td>\n",
       "    </tr>\n",
       "    <tr>\n",
       "      <th>mean</th>\n",
       "      <td>NaN</td>\n",
       "      <td>2.750000</td>\n",
       "    </tr>\n",
       "    <tr>\n",
       "      <th>std</th>\n",
       "      <td>NaN</td>\n",
       "      <td>1.984313</td>\n",
       "    </tr>\n",
       "    <tr>\n",
       "      <th>min</th>\n",
       "      <td>NaN</td>\n",
       "      <td>1.250000</td>\n",
       "    </tr>\n",
       "    <tr>\n",
       "      <th>25%</th>\n",
       "      <td>NaN</td>\n",
       "      <td>1.625000</td>\n",
       "    </tr>\n",
       "    <tr>\n",
       "      <th>50%</th>\n",
       "      <td>NaN</td>\n",
       "      <td>2.000000</td>\n",
       "    </tr>\n",
       "    <tr>\n",
       "      <th>75%</th>\n",
       "      <td>NaN</td>\n",
       "      <td>3.500000</td>\n",
       "    </tr>\n",
       "    <tr>\n",
       "      <th>max</th>\n",
       "      <td>NaN</td>\n",
       "      <td>5.000000</td>\n",
       "    </tr>\n",
       "  </tbody>\n",
       "</table>\n",
       "</div>"
      ],
      "text/plain": [
       "       Product  Sales_Price\n",
       "count        3     3.000000\n",
       "unique       3          NaN\n",
       "top          A          NaN\n",
       "freq         1          NaN\n",
       "mean       NaN     2.750000\n",
       "std        NaN     1.984313\n",
       "min        NaN     1.250000\n",
       "25%        NaN     1.625000\n",
       "50%        NaN     2.000000\n",
       "75%        NaN     3.500000\n",
       "max        NaN     5.000000"
      ]
     },
     "execution_count": 9,
     "metadata": {},
     "output_type": "execute_result"
    }
   ],
   "source": [
    "data['Price_Data'].describe(include='all')"
   ]
  },
  {
   "cell_type": "markdown",
   "metadata": {},
   "source": [
    "Since we are interested in modeling supply uncertainty, lets look at the `Delivery_Data` in more detail. The following code block provides the number of unique values for the *On_Time*, *Yield*, *Unit_Cost*, and *Ship_From_Country* columns, grouped by *Supplier* and *Product*. Apparently, each supplier only provides a single product, charges a fixed unit cost, and ships from a single country. As noted earlier, the *On_Time* column contains only two values, whereas the *Yield* column appears to be continuous."
   ]
  },
  {
   "cell_type": "code",
   "execution_count": 10,
   "metadata": {},
   "outputs": [
    {
     "data": {
      "text/html": [
       "<div>\n",
       "<style scoped>\n",
       "    .dataframe tbody tr th:only-of-type {\n",
       "        vertical-align: middle;\n",
       "    }\n",
       "\n",
       "    .dataframe tbody tr th {\n",
       "        vertical-align: top;\n",
       "    }\n",
       "\n",
       "    .dataframe thead th {\n",
       "        text-align: right;\n",
       "    }\n",
       "</style>\n",
       "<table border=\"1\" class=\"dataframe\">\n",
       "  <thead>\n",
       "    <tr style=\"text-align: right;\">\n",
       "      <th></th>\n",
       "      <th></th>\n",
       "      <th>On_Time</th>\n",
       "      <th>Yield</th>\n",
       "      <th>Unit_Cost</th>\n",
       "      <th>Ship_From_Country</th>\n",
       "    </tr>\n",
       "    <tr>\n",
       "      <th>Supplier</th>\n",
       "      <th>Product</th>\n",
       "      <th></th>\n",
       "      <th></th>\n",
       "      <th></th>\n",
       "      <th></th>\n",
       "    </tr>\n",
       "  </thead>\n",
       "  <tbody>\n",
       "    <tr>\n",
       "      <th>Comp1</th>\n",
       "      <th>A</th>\n",
       "      <td>2</td>\n",
       "      <td>203</td>\n",
       "      <td>1</td>\n",
       "      <td>1</td>\n",
       "    </tr>\n",
       "    <tr>\n",
       "      <th>Comp10</th>\n",
       "      <th>B</th>\n",
       "      <td>2</td>\n",
       "      <td>107</td>\n",
       "      <td>1</td>\n",
       "      <td>1</td>\n",
       "    </tr>\n",
       "    <tr>\n",
       "      <th>Comp11</th>\n",
       "      <th>B</th>\n",
       "      <td>2</td>\n",
       "      <td>68</td>\n",
       "      <td>1</td>\n",
       "      <td>1</td>\n",
       "    </tr>\n",
       "    <tr>\n",
       "      <th>Comp12</th>\n",
       "      <th>B</th>\n",
       "      <td>2</td>\n",
       "      <td>60</td>\n",
       "      <td>1</td>\n",
       "      <td>1</td>\n",
       "    </tr>\n",
       "    <tr>\n",
       "      <th>Comp13</th>\n",
       "      <th>C</th>\n",
       "      <td>2</td>\n",
       "      <td>368</td>\n",
       "      <td>1</td>\n",
       "      <td>1</td>\n",
       "    </tr>\n",
       "    <tr>\n",
       "      <th>Comp14</th>\n",
       "      <th>C</th>\n",
       "      <td>2</td>\n",
       "      <td>312</td>\n",
       "      <td>1</td>\n",
       "      <td>1</td>\n",
       "    </tr>\n",
       "    <tr>\n",
       "      <th>Comp15</th>\n",
       "      <th>C</th>\n",
       "      <td>2</td>\n",
       "      <td>259</td>\n",
       "      <td>1</td>\n",
       "      <td>1</td>\n",
       "    </tr>\n",
       "    <tr>\n",
       "      <th>Comp16</th>\n",
       "      <th>C</th>\n",
       "      <td>2</td>\n",
       "      <td>306</td>\n",
       "      <td>1</td>\n",
       "      <td>1</td>\n",
       "    </tr>\n",
       "    <tr>\n",
       "      <th>Comp2</th>\n",
       "      <th>A</th>\n",
       "      <td>2</td>\n",
       "      <td>320</td>\n",
       "      <td>1</td>\n",
       "      <td>1</td>\n",
       "    </tr>\n",
       "    <tr>\n",
       "      <th>Comp3</th>\n",
       "      <th>A</th>\n",
       "      <td>2</td>\n",
       "      <td>116</td>\n",
       "      <td>1</td>\n",
       "      <td>1</td>\n",
       "    </tr>\n",
       "    <tr>\n",
       "      <th>Comp4</th>\n",
       "      <th>A</th>\n",
       "      <td>2</td>\n",
       "      <td>215</td>\n",
       "      <td>1</td>\n",
       "      <td>1</td>\n",
       "    </tr>\n",
       "    <tr>\n",
       "      <th>Comp5</th>\n",
       "      <th>A</th>\n",
       "      <td>2</td>\n",
       "      <td>195</td>\n",
       "      <td>1</td>\n",
       "      <td>1</td>\n",
       "    </tr>\n",
       "    <tr>\n",
       "      <th>Comp6</th>\n",
       "      <th>B</th>\n",
       "      <td>2</td>\n",
       "      <td>70</td>\n",
       "      <td>1</td>\n",
       "      <td>1</td>\n",
       "    </tr>\n",
       "    <tr>\n",
       "      <th>Comp7</th>\n",
       "      <th>B</th>\n",
       "      <td>2</td>\n",
       "      <td>131</td>\n",
       "      <td>1</td>\n",
       "      <td>1</td>\n",
       "    </tr>\n",
       "    <tr>\n",
       "      <th>Comp8</th>\n",
       "      <th>B</th>\n",
       "      <td>2</td>\n",
       "      <td>33</td>\n",
       "      <td>1</td>\n",
       "      <td>1</td>\n",
       "    </tr>\n",
       "    <tr>\n",
       "      <th>Comp9</th>\n",
       "      <th>B</th>\n",
       "      <td>2</td>\n",
       "      <td>237</td>\n",
       "      <td>1</td>\n",
       "      <td>1</td>\n",
       "    </tr>\n",
       "  </tbody>\n",
       "</table>\n",
       "</div>"
      ],
      "text/plain": [
       "                  On_Time  Yield  Unit_Cost  Ship_From_Country\n",
       "Supplier Product                                              \n",
       "Comp1    A              2    203          1                  1\n",
       "Comp10   B              2    107          1                  1\n",
       "Comp11   B              2     68          1                  1\n",
       "Comp12   B              2     60          1                  1\n",
       "Comp13   C              2    368          1                  1\n",
       "Comp14   C              2    312          1                  1\n",
       "Comp15   C              2    259          1                  1\n",
       "Comp16   C              2    306          1                  1\n",
       "Comp2    A              2    320          1                  1\n",
       "Comp3    A              2    116          1                  1\n",
       "Comp4    A              2    215          1                  1\n",
       "Comp5    A              2    195          1                  1\n",
       "Comp6    B              2     70          1                  1\n",
       "Comp7    B              2    131          1                  1\n",
       "Comp8    B              2     33          1                  1\n",
       "Comp9    B              2    237          1                  1"
      ]
     },
     "execution_count": 10,
     "metadata": {},
     "output_type": "execute_result"
    }
   ],
   "source": [
    "data['Delivery_Data'].groupby(['Supplier','Product'])['On_Time','Yield','Unit_Cost','Ship_From_Country'].nunique()"
   ]
  },
  {
   "cell_type": "markdown",
   "metadata": {},
   "source": [
    "We will be incorporating both the on-time delivery performance and yield for suppliers in our models. For ease of reference, we will us the delivery data to create a function that creates a dictionary that we can use to easily access relevant supplier information. The following code block shows how we can use grouped data (as shown in the previous output) to capture information regarding the product supplied, the mean on-time delivery, the unit cost, and the ship from country for each supplier."
   ]
  },
  {
   "cell_type": "code",
   "execution_count": 11,
   "metadata": {},
   "outputs": [
    {
     "name": "stdout",
     "output_type": "stream",
     "text": [
      "Comp1 supplies product A \n",
      "    from country 1.0\n",
      "          at a cost of 1.289999999999998 \n",
      "          and an on-time delivery percent of 0.8522167487684729\n",
      "\n",
      "Comp10 supplies product B \n",
      "    from country 1.0\n",
      "          at a cost of 0.8599999999999995 \n",
      "          and an on-time delivery percent of 0.9065420560747663\n",
      "\n",
      "Comp11 supplies product B \n",
      "    from country 1.0\n",
      "          at a cost of 0.9399999999999991 \n",
      "          and an on-time delivery percent of 0.9558823529411765\n",
      "\n",
      "Comp12 supplies product B \n",
      "    from country 2.0\n",
      "          at a cost of 0.8200000000000002 \n",
      "          and an on-time delivery percent of 0.8\n",
      "\n",
      "Comp13 supplies product C \n",
      "    from country 1.0\n",
      "          at a cost of 2.799999999999981 \n",
      "          and an on-time delivery percent of 0.9565217391304348\n",
      "\n",
      "Comp14 supplies product C \n",
      "    from country 1.0\n",
      "          at a cost of 2.529999999999982 \n",
      "          and an on-time delivery percent of 0.8141025641025641\n",
      "\n",
      "Comp15 supplies product C \n",
      "    from country 1.0\n",
      "          at a cost of 2.350000000000011 \n",
      "          and an on-time delivery percent of 0.8301158301158301\n",
      "\n",
      "Comp16 supplies product C \n",
      "    from country 1.0\n",
      "          at a cost of 2.940000000000022 \n",
      "          and an on-time delivery percent of 0.9673202614379085\n",
      "\n",
      "Comp2 supplies product A \n",
      "    from country 1.0\n",
      "          at a cost of 1.1800000000000055 \n",
      "          and an on-time delivery percent of 0.85\n",
      "\n",
      "Comp3 supplies product A \n",
      "    from country 1.0\n",
      "          at a cost of 1.1899999999999984 \n",
      "          and an on-time delivery percent of 0.8706896551724138\n",
      "\n",
      "Comp4 supplies product A \n",
      "    from country 1.0\n",
      "          at a cost of 1.2899999999999994 \n",
      "          and an on-time delivery percent of 0.8837209302325582\n",
      "\n",
      "Comp5 supplies product A \n",
      "    from country 2.0\n",
      "          at a cost of 1.409999999999999 \n",
      "          and an on-time delivery percent of 0.9743589743589743\n",
      "\n",
      "Comp6 supplies product B \n",
      "    from country 3.0\n",
      "          at a cost of 0.7999999999999989 \n",
      "          and an on-time delivery percent of 0.8142857142857143\n",
      "\n",
      "Comp7 supplies product B \n",
      "    from country 1.0\n",
      "          at a cost of 0.8700000000000014 \n",
      "          and an on-time delivery percent of 0.8854961832061069\n",
      "\n",
      "Comp8 supplies product B \n",
      "    from country 3.0\n",
      "          at a cost of 0.8500000000000004 \n",
      "          and an on-time delivery percent of 0.9090909090909091\n",
      "\n",
      "Comp9 supplies product B \n",
      "    from country 2.0\n",
      "          at a cost of 0.9300000000000048 \n",
      "          and an on-time delivery percent of 0.9535864978902954\n",
      "\n"
     ]
    }
   ],
   "source": [
    "grouped_delivery_data = data['Delivery_Data'].groupby(['Supplier','Product'])['On_Time','Unit_Cost','Ship_From_Country'].mean()\n",
    "for index, row in grouped_delivery_data.iterrows():\n",
    "    print(f'''{index[0]} supplies product {index[1]} \n",
    "    from country {row[\"Ship_From_Country\"]}\n",
    "          at a cost of {row[\"Unit_Cost\"]} \n",
    "          and an on-time delivery percent of {row[\"On_Time\"]}\\n''')\n",
    "del(grouped_delivery_data)"
   ]
  },
  {
   "cell_type": "markdown",
   "metadata": {},
   "source": [
    "The following code block defines a function that stores the information returned by the grouped object as a dictionary."
   ]
  },
  {
   "cell_type": "code",
   "execution_count": 12,
   "metadata": {},
   "outputs": [],
   "source": [
    "def create_supplier_info(delivery_data):\n",
    "    \n",
    "    supplier_info = {}\n",
    "    \n",
    "    grouped_delivery_data = delivery_data.groupby(['Supplier','Product'])['On_Time',\n",
    "                                                                          'Yield',\n",
    "                                                                          'Unit_Cost',\n",
    "                                                                          'Ship_From_Country'].mean()\n",
    "    \n",
    "    for index, row in grouped_delivery_data.iterrows():\n",
    "        supplier_info[index[0]] = {'Product': index[1],\n",
    "                                   'Mean_OTD': row['On_Time'],\n",
    "                                   'Mean_Yield': row['Yield'],\n",
    "                                   'Unit_Cost': row['Unit_Cost'],\n",
    "                                   'Ship_From_Country': row['Ship_From_Country']}\n",
    "        \n",
    "    return supplier_info"
   ]
  },
  {
   "cell_type": "markdown",
   "metadata": {},
   "source": [
    "The following code block demonstrates how we can call the function."
   ]
  },
  {
   "cell_type": "code",
   "execution_count": 13,
   "metadata": {},
   "outputs": [],
   "source": [
    "supplier_info = create_supplier_info(data['Delivery_Data'])"
   ]
  },
  {
   "cell_type": "markdown",
   "metadata": {},
   "source": [
    "Ultimately, we will be constructing stochastic optimization models based on the supplier information. As we saw in the previous class, we will incorprate the uncertainty using scenarios. Thus, our previous definition for the `create_supplier_info` should probably be revised to include the set of scenarios for on-time delivery and yield for each supplier. Since the yield is continuous, we can use our parametric or non-parametric methods to fit a distribution and generate the sample. The following code block shows how this can be performed for a particular supplier."
   ]
  },
  {
   "cell_type": "code",
   "execution_count": 14,
   "metadata": {},
   "outputs": [
    {
     "data": {
      "image/png": "[encoded data removed]",
      "text/plain": [
       "<Figure size 864x360 with 1 Axes>"
      ]
     },
     "metadata": {
      "needs_background": "light"
     },
     "output_type": "display_data"
    }
   ],
   "source": [
    "scenarios = 100\n",
    "\n",
    "current_supplier = 'Comp6'\n",
    "yield_vals = data['Delivery_Data'][data['Delivery_Data']['Supplier'] == current_supplier]['Yield'].values\n",
    "best_params = pyop.dist_fit.fit_best_kde(yield_vals)\n",
    "pdfx, pdfy = pyop.dist_fit.pdf_from_kde(yield_vals, bandwidth = best_params['bandwidth'], kernel = best_params['kernel'])\n",
    "yield_sample = pyop.dist_fit.trunc_kde_sample(pdfx, pdfy, sample_size = scenarios)\n",
    "\n",
    "fig, ax = plt.subplots(1, 1, figsize=(12,5))\n",
    "ax.hist(yield_vals, label = 'Yield Data', alpha = 0.8, edgecolor = 'k', density = True)\n",
    "ax.hist(yield_sample, label='Yield Sample', alpha = 0.5, color = 'g', edgecolor = 'k', density = True)\n",
    "ax.set_title(f'Sample for {current_supplier}', fontsize = 16)\n",
    "ax.set_xlabel('Value', fontsize = 16)\n",
    "ax.set_ylabel('Relative Frequency', fontsize = 14)\n",
    "ax.legend(fontsize = 14)\n",
    "plt.show()"
   ]
  },
  {
   "cell_type": "markdown",
   "metadata": {},
   "source": [
    "We will use a binomial distribution to generate scenarios for on-time delivery. From https://en.wikipedia.org/wiki/Binomial_distribution (accessed 3/20/2019):\n",
    "\n",
    ">In probability theory and statistics, the binomial distribution with parameters n and p is the discrete probability distribution of the number of successes in a sequence of n independent experiments, each asking a yes–no question, and each with its own boolean-valued outcome: a random variable containing a single bit of information: success/yes/true/one (with probability p) or failure/no/false/zero (with probability q = 1 − p). A single success/failure experiment is also called a Bernoulli trial or Bernoulli experiment and a sequence of outcomes is called a Bernoulli process; for a single trial, i.e., n = 1, the binomial distribution is a Bernoulli distribution. The binomial distribution is the basis for the popular binomial test of statistical significance.\n",
    "\n",
    "The following code block shows how we can use Numpy's binomial function to generate 100 scenarios for an example situation where on-time delivery is 80%."
   ]
  },
  {
   "cell_type": "code",
   "execution_count": 15,
   "metadata": {},
   "outputs": [
    {
     "name": "stdout",
     "output_type": "stream",
     "text": [
      "The first five values of the sample are [1 1 1 0 1 1 1 1 1 0]\n",
      "The mean of the sample is 0.79\n"
     ]
    }
   ],
   "source": [
    "my_sample = np.random.binomial(n = 1, p = 0.80, size = 100)\n",
    "print(f'The first five values of the sample are {my_sample[:10]}')\n",
    "print(f'The mean of the sample is {my_sample.mean()}')"
   ]
  },
  {
   "cell_type": "markdown",
   "metadata": {},
   "source": [
    "The following code block generates a 10000 point sample and shows how the values will converge to the true probability as the sample size increases."
   ]
  },
  {
   "cell_type": "code",
   "execution_count": 16,
   "metadata": {},
   "outputs": [
    {
     "name": "stdout",
     "output_type": "stream",
     "text": [
      "The first five values of the sample are [1 1 1 1 1 1 1 1 1 0]\n",
      "The mean of the sample is 0.8019\n"
     ]
    }
   ],
   "source": [
    "my_sample = np.random.binomial(n = 1, p = 0.80, size = 10000)\n",
    "print(f'The first five values of the sample are {my_sample[:10]}')\n",
    "print(f'The mean of the sample is {my_sample.mean()}')"
   ]
  },
  {
   "cell_type": "markdown",
   "metadata": {},
   "source": [
    "The following code block generates an on-time delivery sample for a specified supplier. Note that I am just using the mean on-time delivery value from the `supplier_info` object to define the probability."
   ]
  },
  {
   "cell_type": "code",
   "execution_count": 17,
   "metadata": {},
   "outputs": [
    {
     "data": {
      "text/plain": [
       "array([0, 1, 1, 1, 1, 1, 1, 1, 1, 1, 1, 1, 1, 1, 1, 1, 1, 1, 1, 1, 1, 1,\n",
       "       1, 0, 1, 1, 1, 1, 1, 1, 1, 0, 0, 0, 0, 1, 1, 0, 0, 1, 1, 1, 1, 1,\n",
       "       0, 1, 1, 1, 1, 1, 1, 0, 1, 1, 1, 1, 1, 1, 1, 1, 1, 1, 0, 1, 0, 1,\n",
       "       0, 1, 1, 1, 1, 0, 1, 1, 1, 1, 1, 1, 1, 1, 0, 1, 1, 1, 1, 1, 0, 1,\n",
       "       1, 1, 1, 1, 0, 0, 1, 1, 1, 1, 1, 1])"
      ]
     },
     "execution_count": 17,
     "metadata": {},
     "output_type": "execute_result"
    }
   ],
   "source": [
    "scenarios = 100\n",
    "\n",
    "current_supplier = 'Comp6'\n",
    "np.random.binomial(n = 1, p = supplier_info[current_supplier]['Mean_OTD'], size = scenarios)"
   ]
  },
  {
   "cell_type": "markdown",
   "metadata": {},
   "source": [
    "The following code block updates the `create_supplier_info` function to include sample generation. Note that we now require an additional argument that specifies the number of scenarios."
   ]
  },
  {
   "cell_type": "code",
   "execution_count": 18,
   "metadata": {},
   "outputs": [],
   "source": [
    "def create_supplier_info(delivery_data, scenarios):\n",
    "    \n",
    "    supplier_info = {}\n",
    "    \n",
    "    grouped_delivery_data = delivery_data.groupby(['Supplier','Product'])['On_Time',\n",
    "                                                                          'Yield',\n",
    "                                                                          'Unit_Cost',\n",
    "                                                                          'Ship_From_Country'].mean()\n",
    "    \n",
    "    for index, row in grouped_delivery_data.iterrows():\n",
    "        supplier_info[index[0]] = {'Product': index[1],\n",
    "                                   'Mean_OTD': row['On_Time'],\n",
    "                                   'Mean_Yield': row['Yield'],\n",
    "                                   'Unit_Cost': row['Unit_Cost'],\n",
    "                                   'Ship_From_Country': row['Ship_From_Country']}\n",
    "        \n",
    "    for current_supplier in supplier_info.keys():\n",
    "        yield_vals = delivery_data[delivery_data['Supplier'] == current_supplier]['Yield'].values\n",
    "        best_params = pyop.dist_fit.fit_best_kde(yield_vals)\n",
    "        pdfx, pdfy = pyop.dist_fit.pdf_from_kde(yield_vals, bandwidth = best_params['bandwidth'], kernel = best_params['kernel'])\n",
    "        yield_sample = pyop.dist_fit.trunc_kde_sample(pdfx, pdfy, sample_size = scenarios)\n",
    "        supplier_info[current_supplier]['Yield_Sample'] = yield_sample\n",
    "        \n",
    "    for current_supplier in supplier_info.keys():\n",
    "        supplier_info[current_supplier]['OTD_Sample'] = np.random.binomial(n = 1, \n",
    "                                                                           p = supplier_info[current_supplier]['Mean_OTD'], \n",
    "                                                                           size = scenarios)\n",
    "        \n",
    "    return supplier_info"
   ]
  },
  {
   "cell_type": "markdown",
   "metadata": {},
   "source": [
    "The following code block demonstrates the use of the revised function."
   ]
  },
  {
   "cell_type": "code",
   "execution_count": 19,
   "metadata": {},
   "outputs": [],
   "source": [
    "supplier_info = create_supplier_info(data['Delivery_Data'], 100)"
   ]
  },
  {
   "cell_type": "markdown",
   "metadata": {},
   "source": [
    "Next, we will move towards constructing a function for generating product info, i.e., a dictionary that contains a demand sample and the sales price for each product.\n",
    "\n",
    "The following code block shows how we can *pick* the sales price information for a specific product from the `Price_Data`."
   ]
  },
  {
   "cell_type": "code",
   "execution_count": 20,
   "metadata": {},
   "outputs": [
    {
     "data": {
      "text/plain": [
       "2.0"
      ]
     },
     "execution_count": 20,
     "metadata": {},
     "output_type": "execute_result"
    }
   ],
   "source": [
    "data['Price_Data'].loc[data['Price_Data']['Product']=='A','Sales_Price'].item()"
   ]
  },
  {
   "cell_type": "markdown",
   "metadata": {},
   "source": [
    "The next challenge is fitting distributions for the product demands. Recall that the `Sales_Data` included columns containing the sales for each product. The following code block shows how we can use *list comprehensions* to get the products rather simply."
   ]
  },
  {
   "cell_type": "code",
   "execution_count": 21,
   "metadata": {},
   "outputs": [
    {
     "name": "stdout",
     "output_type": "stream",
     "text": [
      "The product columns are ['Product_A_Sales', 'Product_B_Sales', 'Product_C_Sales']\n",
      "The products are ['A', 'B', 'C']\n"
     ]
    }
   ],
   "source": [
    "product_columns = [col for col in data['Sales_Data'].columns if 'Sales' in col]\n",
    "print(f'The product columns are {product_columns}')\n",
    "\n",
    "products = [col[8:-6] for col in product_columns]\n",
    "print(f'The products are {products}')"
   ]
  },
  {
   "cell_type": "markdown",
   "metadata": {},
   "source": [
    "Combining these two techniques, the following function generates a dictionary of product information."
   ]
  },
  {
   "cell_type": "code",
   "execution_count": 22,
   "metadata": {},
   "outputs": [],
   "source": [
    "def create_product_info(sales_data, price_data, scenarios):\n",
    "    \n",
    "    product_info = {}\n",
    "    \n",
    "    product_columns = [col for col in sales_data.columns if 'Sales' in col]\n",
    "    products = [col[8:-6] for col in product_columns]\n",
    "    \n",
    "    for current_product in products:\n",
    "        column_name = 'Product_' + current_product + '_Sales'\n",
    "        sales_vals = sales_data[column_name].values\n",
    "        best_params = pyop.dist_fit.fit_best_kde(sales_vals)\n",
    "        pdfx, pdfy = pyop.dist_fit.pdf_from_kde(sales_vals, bandwidth = best_params['bandwidth'], kernel = best_params['kernel'])\n",
    "        demand_sample = pyop.dist_fit.trunc_kde_sample(pdfx, pdfy, sample_size = scenarios)\n",
    "        product_info[current_product] = {'Demand_Sample': demand_sample,\n",
    "                                        'Sales_Price': price_data.loc[price_data['Product']==current_product,\n",
    "                                                                      'Sales_Price'].item()}\n",
    "        \n",
    "        \n",
    "    return product_info"
   ]
  },
  {
   "cell_type": "markdown",
   "metadata": {},
   "source": [
    "The following code block demonstrates the previously defined functions use."
   ]
  },
  {
   "cell_type": "code",
   "execution_count": 23,
   "metadata": {},
   "outputs": [],
   "source": [
    "product_info = create_product_info(data['Sales_Data'], data['Price_Data'], 100)"
   ]
  },
  {
   "cell_type": "markdown",
   "metadata": {},
   "source": [
    "# Modeling Uncertain On-time Delivery\n",
    "\n",
    "We will now use the objects we have created to model a situation with uncertain on-time delivery. We will define a function for this purpose, which will allow us to easily iterate over all of the products. The function will take a current product, and our `supplier_info` and ` product_info` objects as arguments. The following code block shows how we will use the current product and `supplier_info` object to determine the relevant suppliers. "
   ]
  },
  {
   "cell_type": "code",
   "execution_count": 24,
   "metadata": {},
   "outputs": [
    {
     "name": "stdout",
     "output_type": "stream",
     "text": [
      "The supplier for product A are ['Comp1', 'Comp2', 'Comp3', 'Comp4', 'Comp5']\n"
     ]
    }
   ],
   "source": [
    "current_product = 'A'\n",
    "relevant_suppliers = [supplier for supplier in supplier_info.keys() if current_product == supplier_info[supplier]['Product']]\n",
    "print(f'The supplier for product {current_product} are {relevant_suppliers}')"
   ]
  },
  {
   "cell_type": "markdown",
   "metadata": {},
   "source": [
    "We use the following mathematical model.\n",
    "\n",
    "<u>Sets</u><br>\n",
    "$S$ - set of suppliers.<br>\n",
    "$\\Omega$ - set of scenarios.<br>\n",
    "<br>\n",
    "<u>Indices</u><br>\n",
    "$s$ - supplier index, $s \\in S$.<br>\n",
    "$\\omega$ - scenario index, $\\omega \\in \\Omega$.<br>\n",
    "<br>\n",
    "<u>Parameters</u><br>\n",
    "$p$ - unit sales price.<br>\n",
    "$c_{s}$ - unit cost charged by supplier $s$.<br>\n",
    "$d_{\\omega}$ - demand in scenario $\\omega$.<br>\n",
    "$\\alpha_{s\\omega}$ - 1, if supplier $s$ delivers in scenario $\\omega$; $0$, otherwise.<br>\n",
    "<br>\n",
    "<u>Variables</u><br>\n",
    "$Q_{S}$ - amount ordered from supplier $s$.<br>\n",
    "$S_{\\omega}$ - amount sold in scenario $\\omega$.<br>\n",
    "\n",
    "$$\\displaystyle Maximize \\sum_{\\omega \\in \\Omega}\\left(pS_{\\omega}- \\sum_{s\\in S}c_{s}\\alpha_{s\\omega}Q_{s}\\right)\\bigg/|\\Omega|$$\n",
    "\n",
    "\n",
    "$$Subject~to,\\hspace{7cm}~$$\n",
    "$$\\displaystyle S_{\\omega} \\leq \\sum_{s\\in S}\\alpha_{s\\omega}Q_{s}, ~~~~\\forall \\omega \\in \\Omega,$$\n",
    "$$\\displaystyle S_{\\omega} \\leq d_{\\omega}, ~~~~\\forall \\omega \\in \\Omega,$$\n",
    "$$\\displaystyle S_{\\omega} \\geq 0, ~~~~\\forall \\omega \\in \\Omega,$$\n",
    "$$\\displaystyle Q_{s} \\geq 0,~~~~\\forall s \\in S.$$\n",
    "\n",
    "The following code block defines our model for incorporating uncertain on-time delivery."
   ]
  },
  {
   "cell_type": "code",
   "execution_count": 25,
   "metadata": {},
   "outputs": [],
   "source": [
    "def solve_OTD_model(current_product, product_info, supplier_info):\n",
    "    \n",
    "    demand_sample = product_info[current_product]['Demand_Sample']\n",
    "    sales_price = product_info[current_product]['Sales_Price']\n",
    "    relevant_suppliers = [supplier for supplier in supplier_info.keys() if current_product == supplier_info[supplier]['Product']]\n",
    "    scenarios = len(demand_sample)\n",
    "\n",
    "    m = Model(name = 'Sourcing Under All-or-Nothing Disruptions')\n",
    "    m.setParam('OutputFlag', 0)\n",
    "\n",
    "    Order = m.addVars(relevant_suppliers, vtype = 'C', name=\"Order\")\n",
    "    Sell = m.addVars(scenarios, vtype = 'C', name = \"Sell\")\n",
    "    \n",
    "    for scenario in range(scenarios):\n",
    "        total_delivered = LinExpr()\n",
    "        for supplier in relevant_suppliers:\n",
    "            total_delivered.add(Order[supplier]*supplier_info[supplier]['OTD_Sample'][scenario])\n",
    "        m.addConstr(Sell[scenario] <= total_delivered, name = 'Sell <= Delivered')\n",
    "\n",
    "    for scenario in range(scenarios):\n",
    "        m.addConstr(Sell[scenario] <= demand_sample[scenario], name = 'Sell <= Demand')\n",
    "\n",
    "    expected_revenue = LinExpr()\n",
    "    for scenario in range(scenarios):\n",
    "        expected_revenue.add(sales_price*Sell[scenario])\n",
    "    expected_revenue = expected_revenue/scenarios\n",
    "\n",
    "    expected_cost = LinExpr()\n",
    "    for scenario in range(scenarios): \n",
    "        for supplier in relevant_suppliers:\n",
    "            expected_cost.add(supplier_info[supplier]['Unit_Cost']*Order[supplier]\\\n",
    "                              *supplier_info[supplier]['OTD_Sample'][scenario])\n",
    "    expected_cost = expected_cost/scenarios\n",
    "\n",
    "    objective = expected_revenue - expected_cost\n",
    "    m.setObjective(objective, GRB.MAXIMIZE) # maximize profit\n",
    "\n",
    "    m.optimize()\n",
    "    \n",
    "    solution_dict = {}\n",
    "    for supplier in relevant_suppliers:\n",
    "        solution_dict[supplier] = Order[supplier].X\n",
    "\n",
    "    return solution_dict"
   ]
  },
  {
   "cell_type": "markdown",
   "metadata": {},
   "source": [
    "The following code block shows that the function returns a dictionary with the optimal order quantity from each supplier."
   ]
  },
  {
   "cell_type": "code",
   "execution_count": 26,
   "metadata": {},
   "outputs": [
    {
     "name": "stdout",
     "output_type": "stream",
     "text": [
      "Academic license - for non-commercial use only\n"
     ]
    },
    {
     "data": {
      "text/plain": [
       "{'Comp1': 28.951351351351377,\n",
       " 'Comp2': 80.17297297297307,\n",
       " 'Comp3': 664.5069069069068,\n",
       " 'Comp4': 0.0,\n",
       " 'Comp5': 0.0}"
      ]
     },
     "execution_count": 26,
     "metadata": {},
     "output_type": "execute_result"
    }
   ],
   "source": [
    "solve_OTD_model('A', product_info, supplier_info)"
   ]
  },
  {
   "cell_type": "markdown",
   "metadata": {},
   "source": [
    "To see the fruits of our labor, the following code block shows how our functions work together to solve the uncertain on-time delivery model for all products."
   ]
  },
  {
   "cell_type": "code",
   "execution_count": 27,
   "metadata": {},
   "outputs": [
    {
     "name": "stdout",
     "output_type": "stream",
     "text": [
      "------------\n",
      "Product A\n",
      "------------\n",
      "Order 0.0 from Comp1\n",
      "Order 49.48948948948953 from Comp2\n",
      "Order 703.8510510510511 from Comp3\n",
      "Order 6.433633633633576 from Comp4\n",
      "Order 0.0 from Comp5\n",
      "\n",
      "\n",
      "------------\n",
      "Product B\n",
      "------------\n",
      "Order 20.814414414414387 from Comp10\n",
      "Order 0.0 from Comp11\n",
      "Order 30.856456456456442 from Comp12\n",
      "Order 223.16816816816822 from Comp6\n",
      "Order 0.0 from Comp7\n",
      "Order 34.87327327327324 from Comp8\n",
      "Order 0.0 from Comp9\n",
      "\n",
      "\n",
      "------------\n",
      "Product C\n",
      "------------\n",
      "Order 14.479279279279126 from Comp13\n",
      "Order 56.15135135135142 from Comp14\n",
      "Order 1439.9063063063063 from Comp15\n",
      "Order 0.0 from Comp16\n",
      "\n",
      "\n"
     ]
    }
   ],
   "source": [
    "scenarios = 1000\n",
    "product_info = create_product_info(data['Sales_Data'], data['Price_Data'], scenarios)\n",
    "supplier_info = create_supplier_info(data['Delivery_Data'], scenarios)\n",
    "\n",
    "for current_product in product_info.keys():\n",
    "    print('------------')\n",
    "    print(f'Product {current_product}')\n",
    "    print('------------')\n",
    "    solution = solve_OTD_model(current_product, product_info, supplier_info)\n",
    "    \n",
    "    for key in solution.keys():\n",
    "        print(f'Order {solution[key]} from {key}')\n",
    "    print('\\n')"
   ]
  },
  {
   "cell_type": "markdown",
   "metadata": {},
   "source": [
    "# Yield Uncertainty\n",
    "\n",
    "We will now consider yield uncertainty using the following mathematical model.\n",
    "\n",
    "<u>Sets</u><br>\n",
    "$S$ - set of suppliers.<br>\n",
    "$\\Omega$ - set of scenarios.<br>\n",
    "<br>\n",
    "<u>Indices</u><br>\n",
    "$s$ - supplier index, $s \\in S$.<br>\n",
    "$\\omega$ - scenario index, $\\omega \\in \\Omega$.<br>\n",
    "<br>\n",
    "<u>Parameters</u><br>\n",
    "$p$ - unit sales price.<br>\n",
    "$c_{s}$ - unit cost charged by supplier $s$.<br>\n",
    "$d_{\\omega}$ - demand in scenario $\\omega$.<br>\n",
    "$\\beta_{s\\omega}$ - yield proportion for supplier $s$ in scenario $\\omega$<br>\n",
    "<br>\n",
    "<u>Variables</u><br>\n",
    "$Q_{S}$ - amount ordered from supplier $s$.<br>\n",
    "$S_{\\omega}$ - amount sold in scenario $\\omega$.<br>\n",
    "\n",
    "$$\\displaystyle Maximize \\sum_{\\omega \\in \\Omega}\\left(pS_{\\omega}- \\sum_{s\\in S}c_{s}\\beta_{s\\omega}Q_{s}\\right)\\bigg/|\\Omega|$$\n",
    "\n",
    "\n",
    "$$Subject~to,\\hspace{7cm}~$$\n",
    "$$\\displaystyle S_{\\omega} \\leq \\sum_{s\\in S}\\beta_{s\\omega}Q_{s}, ~~~~\\forall \\omega \\in \\Omega,$$\n",
    "$$\\displaystyle S_{\\omega} \\leq d_{\\omega}, ~~~~\\forall \\omega \\in \\Omega,$$\n",
    "$$\\displaystyle S_{\\omega} \\geq 0, ~~~~\\forall \\omega \\in \\Omega,$$\n",
    "$$\\displaystyle Q_{s} \\geq 0,~~~~\\forall s \\in S.$$\n",
    "\n",
    "The following code block defines our model for incorporating uncertain yield."
   ]
  },
  {
   "cell_type": "code",
   "execution_count": 28,
   "metadata": {},
   "outputs": [],
   "source": [
    "def solve_uncertain_yield_model(current_product, product_info, supplier_info):\n",
    "    \n",
    "    demand_sample = product_info[current_product]['Demand_Sample']\n",
    "    sales_price = product_info[current_product]['Sales_Price']\n",
    "    relevant_suppliers = [supplier for supplier in supplier_info.keys() if current_product == supplier_info[supplier]['Product']]\n",
    "    scenarios = len(demand_sample)\n",
    "\n",
    "    m = Model(name = 'Sourcing Under Uncertain Yield')\n",
    "    m.setParam('OutputFlag', 0)\n",
    "\n",
    "    Order = m.addVars(relevant_suppliers, vtype = 'C', name=\"Order\")\n",
    "    Sell = m.addVars(scenarios, vtype = 'C', name = \"Sell\")\n",
    "    \n",
    "    for scenario in range(scenarios):\n",
    "        total_delivered = LinExpr()\n",
    "        for supplier in relevant_suppliers:\n",
    "            total_delivered.add(Order[supplier]*supplier_info[supplier]['Yield_Sample'][scenario])\n",
    "        m.addConstr(Sell[scenario] <= total_delivered, name = 'Sell <= Delivered')\n",
    "\n",
    "    for scenario in range(scenarios):\n",
    "        m.addConstr(Sell[scenario] <= demand_sample[scenario], name = 'Sell <= Demand')\n",
    "\n",
    "    expected_revenue = LinExpr()\n",
    "    for scenario in range(scenarios):\n",
    "        expected_revenue.add(sales_price*Sell[scenario])\n",
    "    expected_revenue = expected_revenue/scenarios\n",
    "\n",
    "    expected_cost = LinExpr()\n",
    "    for scenario in range(scenarios): \n",
    "        for supplier in relevant_suppliers:\n",
    "            expected_cost.add(supplier_info[supplier]['Unit_Cost']*Order[supplier]\\\n",
    "                              *supplier_info[supplier]['Yield_Sample'][scenario])\n",
    "    expected_cost = expected_cost/scenarios\n",
    "\n",
    "    objective = expected_revenue - expected_cost\n",
    "    m.setObjective(objective, GRB.MAXIMIZE) # maximize profit\n",
    "\n",
    "    m.optimize()\n",
    "    \n",
    "    solution_dict = {}\n",
    "    for supplier in relevant_suppliers:\n",
    "        solution_dict[supplier] = Order[supplier].X\n",
    "\n",
    "    return solution_dict"
   ]
  },
  {
   "cell_type": "markdown",
   "metadata": {},
   "source": [
    "The following code block solves the uncertain yield model for all products."
   ]
  },
  {
   "cell_type": "code",
   "execution_count": 29,
   "metadata": {},
   "outputs": [
    {
     "name": "stdout",
     "output_type": "stream",
     "text": [
      "------------\n",
      "Product A\n",
      "------------\n",
      "Order 0.0 from Comp1\n",
      "Order 14.148223866856734 from Comp2\n",
      "Order 937.4855224045237 from Comp3\n",
      "Order 0.0 from Comp4\n",
      "Order 0.0 from Comp5\n",
      "\n",
      "\n",
      "------------\n",
      "Product B\n",
      "------------\n",
      "Order 0.0 from Comp10\n",
      "Order 0.0 from Comp11\n",
      "Order 0.0 from Comp12\n",
      "Order 357.9165734417662 from Comp6\n",
      "Order 0.0 from Comp7\n",
      "Order 0.0 from Comp8\n",
      "Order 0.0 from Comp9\n",
      "\n",
      "\n",
      "------------\n",
      "Product C\n",
      "------------\n",
      "Order 0.0 from Comp13\n",
      "Order 0.0 from Comp14\n",
      "Order 1725.5548541325315 from Comp15\n",
      "Order 0.0 from Comp16\n",
      "\n",
      "\n"
     ]
    }
   ],
   "source": [
    "scenarios = 1000\n",
    "product_info = create_product_info(data['Sales_Data'], data['Price_Data'], scenarios)\n",
    "supplier_info = create_supplier_info(data['Delivery_Data'], scenarios)\n",
    "\n",
    "for current_product in product_info.keys():\n",
    "    print('------------')\n",
    "    print(f'Product {current_product}')\n",
    "    print('------------')\n",
    "    solution = solve_uncertain_yield_model(current_product, product_info, supplier_info)\n",
    "    \n",
    "    for key in solution.keys():\n",
    "        print(f'Order {solution[key]} from {key}')\n",
    "    print('\\n')"
   ]
  },
  {
   "cell_type": "markdown",
   "metadata": {},
   "source": [
    "# All-or-Nothing Disruptions and Yield Uncertainty\n",
    "\n",
    "We will now consider both all-or-nothing disruptions and yield uncertainty using the following mathematical model.\n",
    "\n",
    "<u>Sets</u><br>\n",
    "$S$ - set of suppliers.<br>\n",
    "$\\Omega$ - set of scenarios.<br>\n",
    "<br>\n",
    "<u>Indices</u><br>\n",
    "$s$ - supplier index, $s \\in S$.<br>\n",
    "$\\omega$ - scenario index, $\\omega \\in \\Omega$.<br>\n",
    "<br>\n",
    "<u>Parameters</u><br>\n",
    "$p$ - unit sales price.<br>\n",
    "$c_{s}$ - unit cost charged by supplier $s$.<br>\n",
    "$d_{\\omega}$ - demand in scenario $\\omega$.<br>\n",
    "$\\alpha_{s\\omega}$ - 1, if supplier $s$ delivers in scenario $\\omega$; $0$, otherwise.<br>\n",
    "$\\beta_{s\\omega}$ - yield proportion for supplier $s$ in scenario $\\omega$<br>\n",
    "<br>\n",
    "<u>Variables</u><br>\n",
    "$Q_{S}$ - amount ordered from supplier $s$.<br>\n",
    "$S_{\\omega}$ - amount sold in scenario $\\omega$.<br>\n",
    "\n",
    "$$\\displaystyle Maximize \\sum_{\\omega \\in \\Omega}\\left(pS_{\\omega}- \\sum_{s\\in S}c_{s}\\alpha_{s\\omega}\\beta_{s\\omega}Q_{s}\\right)\\bigg/|\\Omega|$$\n",
    "\n",
    "\n",
    "$$Subject~to,\\hspace{7cm}~$$\n",
    "$$\\displaystyle S_{\\omega} \\leq \\sum_{s\\in S}\\alpha_{s\\omega}\\beta_{s\\omega}Q_{s}, ~~~~\\forall \\omega \\in \\Omega,$$\n",
    "$$\\displaystyle S_{\\omega} \\leq d_{\\omega}, ~~~~\\forall \\omega \\in \\Omega,$$\n",
    "$$\\displaystyle S_{\\omega} \\geq 0, ~~~~\\forall \\omega \\in \\Omega,$$\n",
    "$$\\displaystyle Q_{s} \\geq 0,~~~~\\forall s \\in S.$$\n",
    "\n",
    "The following code block defines our model for incorporating uncertain yield."
   ]
  },
  {
   "cell_type": "code",
   "execution_count": 30,
   "metadata": {},
   "outputs": [],
   "source": [
    "def solve_uncertain_yield_and_OTD_model(current_product, product_info, supplier_info):\n",
    "    \n",
    "    demand_sample = product_info[current_product]['Demand_Sample']\n",
    "    sales_price = product_info[current_product]['Sales_Price']\n",
    "    relevant_suppliers = [supplier for supplier in supplier_info.keys() if current_product == supplier_info[supplier]['Product']]\n",
    "    scenarios = len(demand_sample)\n",
    "\n",
    "    m = Model(name = 'Sourcing Under Uncertain Yield')\n",
    "    m.setParam('OutputFlag', 0)\n",
    "\n",
    "    Order = m.addVars(relevant_suppliers, vtype = 'C', name=\"Order\")\n",
    "    Sell = m.addVars(scenarios, vtype = 'C', name = \"Sell\")\n",
    "    \n",
    "    for scenario in range(scenarios):\n",
    "        total_delivered = LinExpr()\n",
    "        for supplier in relevant_suppliers:\n",
    "            total_delivered.add(Order[supplier]*supplier_info[supplier]['Yield_Sample'][scenario]\\\n",
    "                               *supplier_info[supplier]['OTD_Sample'][scenario])\n",
    "        m.addConstr(Sell[scenario] <= total_delivered, name = 'Sell <= Delivered')\n",
    "\n",
    "    for scenario in range(scenarios):\n",
    "        m.addConstr(Sell[scenario] <= demand_sample[scenario], name = 'Sell <= Demand')\n",
    "\n",
    "    expected_revenue = LinExpr()\n",
    "    for scenario in range(scenarios):\n",
    "        expected_revenue.add(sales_price*Sell[scenario])\n",
    "    expected_revenue = expected_revenue/scenarios\n",
    "\n",
    "    expected_cost = LinExpr()\n",
    "    for scenario in range(scenarios): \n",
    "        for supplier in relevant_suppliers:\n",
    "            expected_cost.add(supplier_info[supplier]['Unit_Cost']*Order[supplier]\\\n",
    "                              *supplier_info[supplier]['Yield_Sample'][scenario]\\\n",
    "                              *supplier_info[supplier]['OTD_Sample'][scenario])\n",
    "    expected_cost = expected_cost/scenarios\n",
    "\n",
    "    objective = expected_revenue - expected_cost\n",
    "    m.setObjective(objective, GRB.MAXIMIZE) # maximize profit\n",
    "\n",
    "    m.optimize()\n",
    "    \n",
    "    solution_dict = {}\n",
    "    for supplier in relevant_suppliers:\n",
    "        solution_dict[supplier] = Order[supplier].X\n",
    "\n",
    "    return solution_dict"
   ]
  },
  {
   "cell_type": "markdown",
   "metadata": {},
   "source": [
    "The following code block solves the combined model for all products."
   ]
  },
  {
   "cell_type": "code",
   "execution_count": 31,
   "metadata": {
    "scrolled": true
   },
   "outputs": [
    {
     "name": "stdout",
     "output_type": "stream",
     "text": [
      "------------\n",
      "Product A\n",
      "------------\n",
      "Order 0.0 from Comp1\n",
      "Order 2.293711110763181 from Comp2\n",
      "Order 950.6114786029202 from Comp3\n",
      "Order 0.0 from Comp4\n",
      "Order 0.0 from Comp5\n",
      "\n",
      "\n",
      "------------\n",
      "Product B\n",
      "------------\n",
      "Order 22.829982401951376 from Comp10\n",
      "Order 0.0 from Comp11\n",
      "Order 28.066602345884203 from Comp12\n",
      "Order 294.0058633953323 from Comp6\n",
      "Order 0.0 from Comp7\n",
      "Order 23.653318826615983 from Comp8\n",
      "Order 0.0 from Comp9\n",
      "\n",
      "\n",
      "------------\n",
      "Product C\n",
      "------------\n",
      "Order 0.4376300386444763 from Comp13\n",
      "Order 2.479932490240259 from Comp14\n",
      "Order 1723.1922024154774 from Comp15\n",
      "Order 0.0 from Comp16\n",
      "\n",
      "\n"
     ]
    }
   ],
   "source": [
    "scenarios = 1000\n",
    "product_info = create_product_info(data['Sales_Data'], data['Price_Data'], scenarios)\n",
    "supplier_info = create_supplier_info(data['Delivery_Data'], scenarios)\n",
    "\n",
    "for current_product in product_info.keys():\n",
    "    print('------------')\n",
    "    print(f'Product {current_product}')\n",
    "    print('------------')\n",
    "    solution = solve_uncertain_yield_and_OTD_model(current_product, product_info, supplier_info)\n",
    "    \n",
    "    for key in solution.keys():\n",
    "        print(f'Order {solution[key]} from {key}')\n",
    "    print('\\n')"
   ]
  },
  {
   "cell_type": "markdown",
   "metadata": {},
   "source": [
    "# Solution Comparison\n",
    "\n",
    "The following code block demonstrates how our functions and models may be used to solve all variants of the problem for all products and output the results to an Excel file."
   ]
  },
  {
   "cell_type": "code",
   "execution_count": 32,
   "metadata": {},
   "outputs": [
    {
     "name": "stdout",
     "output_type": "stream",
     "text": [
      "Starting product A\n",
      "Starting product B\n",
      "Starting product C\n"
     ]
    }
   ],
   "source": [
    "data_filename = 'data.xlsx'\n",
    "data_file = pd.ExcelFile(data_filename)\n",
    "data = {}\n",
    "for current_sheet in data_file.sheet_names:\n",
    "    data[current_sheet] = pd.read_excel(data_filename, sheet_name = current_sheet)\n",
    "\n",
    "scenarios = 1000\n",
    "product_info = create_product_info(data['Sales_Data'], data['Price_Data'], scenarios)\n",
    "supplier_info = create_supplier_info(data['Delivery_Data'], scenarios)\n",
    "\n",
    "with pd.ExcelWriter('output.xlsx') as writer:  \n",
    "\n",
    "    for current_product in product_info.keys():\n",
    "        print(f'Starting product {current_product}')\n",
    "        OTD_solution = solve_OTD_model(current_product, product_info, supplier_info)\n",
    "        yield_solution = solve_uncertain_yield_model(current_product, product_info, supplier_info)\n",
    "        OTD_and_yield_solution = solve_uncertain_yield_and_OTD_model(current_product, product_info, supplier_info)\n",
    "\n",
    "        supplier_list = []\n",
    "        OTD_list = []\n",
    "        yield_list = []\n",
    "        OTD_and_yield_list = []\n",
    "\n",
    "        for key in OTD_solution.keys():\n",
    "            supplier_list.append(key)\n",
    "            OTD_list.append(OTD_solution[key])\n",
    "            yield_list.append(yield_solution[key])\n",
    "            OTD_and_yield_list.append(OTD_and_yield_solution[key])\n",
    "            \n",
    "        pd.DataFrame.from_dict({'Supplier': supplier_list,\n",
    "                                'OTD_Solution': OTD_list,\n",
    "                                'Yield_Solution': yield_list,\n",
    "                                'OTD_and_Yield_Solution': OTD_and_yield_list}).to_excel(writer, \n",
    "                                                                                        sheet_name=f'Product_{current_product}',\n",
    "                                                                                        index = False)"
   ]
  }
 ],
 "metadata": {
  "kernelspec": {
   "display_name": "Python 3",
   "language": "python",
   "name": "python3"
  },
  "language_info": {
   "codemirror_mode": {
    "name": "ipython",
    "version": 3
   },
   "file_extension": ".py",
   "mimetype": "text/x-python",
   "name": "python",
   "nbconvert_exporter": "python",
   "pygments_lexer": "ipython3",
   "version": "3.7.1"
  }
 },
 "nbformat": 4,
 "nbformat_minor": 2
}
